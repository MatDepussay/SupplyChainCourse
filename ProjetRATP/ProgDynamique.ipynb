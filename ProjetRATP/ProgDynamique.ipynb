{
 "cells": [
  {
   "cell_type": "code",
   "execution_count": null,
   "id": "9d94b108",
   "metadata": {},
   "outputs": [],
   "source": [
    "FactoriellesDejaCalculees = [1]\n",
    "def factorielle(n):\n",
    "    if( n < len(FactoriellesDejaCalculees)):\n",
    "        return FactoriellesDejaCalculees[n]\n",
    "    #print(\"Fact(\", n, \") démarre !\")\n",
    "    if(n == 1):\n",
    "        FactoriellesDejaCalculees.append(1)\n",
    "        return 1\n",
    "    a = n*factorielle(n-1)\n",
    "    FactoriellesDejaCalculees.append(a)\n",
    "    return a"
   ]
  },
  {
   "cell_type": "code",
   "execution_count": null,
   "id": "43d4bec1",
   "metadata": {},
   "outputs": [],
   "source": [
    "print(factorielle(50)*factorielle(40)+ factorielle(60))\n"
   ]
  },
  {
   "cell_type": "code",
   "execution_count": 65,
   "id": "b08daa79",
   "metadata": {},
   "outputs": [],
   "source": [
    "def Fibonacci(n):\n",
    "    a = 1\n",
    "    b = 0\n",
    "    for _ in range(n):\n",
    "        c = a + b\n",
    "        b = a\n",
    "        a = c\n",
    "    return a"
   ]
  },
  {
   "cell_type": "code",
   "execution_count": 69,
   "id": "fa8fd5be",
   "metadata": {},
   "outputs": [],
   "source": [
    "def Fibonacci(n):\n",
    "    if n <= 1:\n",
    "        return 1\n",
    "    return Fibonacci(n-1) + Fibonacci(n-2)"
   ]
  },
  {
   "cell_type": "code",
   "execution_count": 71,
   "id": "7450b17d",
   "metadata": {},
   "outputs": [],
   "source": [
    "Suite = [1,1]\n",
    "def Fibonacci(n):\n",
    "    if(n < len(Suite)):\n",
    "        return Suite[n]\n",
    "    for i in range(len(Suite),n+1):\n",
    "        Suite.append( Suite[i-1] + Suite[i-2])\n",
    "    return Suite[n]"
   ]
  },
  {
   "cell_type": "code",
   "execution_count": 74,
   "id": "6cea256c",
   "metadata": {},
   "outputs": [
    {
     "name": "stdout",
     "output_type": "stream",
     "text": [
      "0.01807379722595215\n"
     ]
    }
   ],
   "source": [
    "import time\n",
    "\n",
    "start = time.time()\n",
    "for _ in range(1000):\n",
    "    Fibonacci(10000)\n",
    "end = time.time()\n",
    "print(end - start)\n",
    "    "
   ]
  },
  {
   "cell_type": "code",
   "execution_count": 61,
   "id": "6ef8d13c",
   "metadata": {},
   "outputs": [],
   "source": [
    "#V1 : 1.5s pour 1000xFibo(10000)\n",
    "#V2 : 2.1s pour 100xFibo(25)\n",
    "#V3 : 0.018s pour 1000xFibo(10000)"
   ]
  },
  {
   "cell_type": "code",
   "execution_count": 72,
   "id": "3d703009",
   "metadata": {},
   "outputs": [
    {
     "name": "stdout",
     "output_type": "stream",
     "text": [
      "1\n",
      "1\n",
      "2\n",
      "3\n",
      "5\n",
      "8\n",
      "13\n",
      "21\n",
      "34\n",
      "55\n",
      "89\n",
      "144\n",
      "233\n",
      "377\n",
      "610\n",
      "987\n",
      "1597\n",
      "2584\n",
      "4181\n",
      "6765\n",
      "10946\n",
      "17711\n",
      "28657\n",
      "46368\n",
      "75025\n"
     ]
    }
   ],
   "source": [
    "for i in range(25):\n",
    "    print(Fibonacci(i))"
   ]
  }
 ],
 "metadata": {
  "kernelspec": {
   "display_name": "Python 3 (ipykernel)",
   "language": "python",
   "name": "python3"
  },
  "language_info": {
   "codemirror_mode": {
    "name": "ipython",
    "version": 3
   },
   "file_extension": ".py",
   "mimetype": "text/x-python",
   "name": "python",
   "nbconvert_exporter": "python",
   "pygments_lexer": "ipython3",
   "version": "3.10.12"
  }
 },
 "nbformat": 4,
 "nbformat_minor": 5
}
