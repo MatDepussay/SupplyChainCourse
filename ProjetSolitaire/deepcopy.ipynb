{
 "cells": [
  {
   "cell_type": "code",
   "execution_count": 5,
   "id": "74e8e706",
   "metadata": {},
   "outputs": [],
   "source": [
    "L = [1,2,3]\n",
    "Liste2 = list(L)"
   ]
  },
  {
   "cell_type": "code",
   "execution_count": 7,
   "id": "f7ab78b5",
   "metadata": {},
   "outputs": [
    {
     "name": "stdout",
     "output_type": "stream",
     "text": [
      "[1, 8, 3]\n",
      "[1, 2, 3]\n"
     ]
    }
   ],
   "source": [
    "Liste2[1] = 8\n",
    "print(Liste2)\n",
    "print(L)"
   ]
  },
  {
   "cell_type": "code",
   "execution_count": 13,
   "id": "e475bcd1",
   "metadata": {},
   "outputs": [],
   "source": [
    "import copy\n",
    "L = [[1,2,3],[2,3,4]]\n",
    "Liste2 = copy.deepcopy(L)"
   ]
  },
  {
   "cell_type": "code",
   "execution_count": 14,
   "id": "9dd435ab",
   "metadata": {},
   "outputs": [
    {
     "name": "stdout",
     "output_type": "stream",
     "text": [
      "[[1, 2, 3], [2, 8, 4]]\n",
      "[[1, 2, 3], [2, 3, 4]]\n"
     ]
    }
   ],
   "source": [
    "Liste2[1][1] = 8\n",
    "print(Liste2)\n",
    "print(L)"
   ]
  },
  {
   "cell_type": "code",
   "execution_count": 12,
   "id": "27337175",
   "metadata": {},
   "outputs": [
    {
     "name": "stdout",
     "output_type": "stream",
     "text": [
      "[[1, 2, 3], [8]]\n",
      "[[1, 2, 3], [2, 8, 4]]\n"
     ]
    }
   ],
   "source": [
    "Liste2[1] = [8]\n",
    "print(Liste2)\n",
    "print(L)"
   ]
  }
 ],
 "metadata": {
  "kernelspec": {
   "display_name": "Python 3 (ipykernel)",
   "language": "python",
   "name": "python3"
  },
  "language_info": {
   "codemirror_mode": {
    "name": "ipython",
    "version": 3
   },
   "file_extension": ".py",
   "mimetype": "text/x-python",
   "name": "python",
   "nbconvert_exporter": "python",
   "pygments_lexer": "ipython3",
   "version": "3.10.12"
  }
 },
 "nbformat": 4,
 "nbformat_minor": 5
}
