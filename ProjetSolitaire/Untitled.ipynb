{
 "cells": [
  {
   "cell_type": "code",
   "execution_count": 8,
   "id": "ba57e727",
   "metadata": {},
   "outputs": [],
   "source": [
    "class Personnage(object):\n",
    "    \n",
    "    def __init__(self, Nom, niveau):\n",
    "        self.nom = Nom\n",
    "        self.niveau = niveau\n",
    "        self.pointDeVie = 10*niveau\n",
    "        self.attaque = niveau*2\n",
    "    \n",
    "    def combattre(self, autrePerso):\n",
    "        self.pointDeVie -= autrePerso.attaque\n",
    "        autrePerso.pointDeVie -= self.attaque"
   ]
  },
  {
   "cell_type": "code",
   "execution_count": 9,
   "id": "c1e732e8",
   "metadata": {},
   "outputs": [
    {
     "name": "stdout",
     "output_type": "stream",
     "text": [
      "John\n",
      "150\n",
      "130\n"
     ]
    }
   ],
   "source": [
    "MonPerso = Personnage(\"John\", 15)\n",
    "MonPerso2 = Personnage(\"Jack\", 10)\n",
    "\n",
    "print(MonPerso.nom)\n",
    "print(MonPerso.pointDeVie)\n",
    "\n",
    "MonPerso.combattre(MonPerso2)\n",
    "\n",
    "print(MonPerso.pointDeVie)"
   ]
  }
 ],
 "metadata": {
  "kernelspec": {
   "display_name": "Python 3 (ipykernel)",
   "language": "python",
   "name": "python3"
  },
  "language_info": {
   "codemirror_mode": {
    "name": "ipython",
    "version": 3
   },
   "file_extension": ".py",
   "mimetype": "text/x-python",
   "name": "python",
   "nbconvert_exporter": "python",
   "pygments_lexer": "ipython3",
   "version": "3.10.12"
  }
 },
 "nbformat": 4,
 "nbformat_minor": 5
}
